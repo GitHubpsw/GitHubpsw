//머신러닝 소스 변경내역입니다.
//main-local-sub1 브랜치로 갑시다

{
  "nbformat": 4,
  "nbformat_minor": 0,
  "metadata": {
    "colab": {
      "name": "머신러닝연습0.ipynb",
      "provenance": []
    },
    "kernelspec": {
      "name": "python3",
      "display_name": "Python 3"
    }
  },
  "cells": [
    {
      "cell_type": "code",
      "metadata": {
        "id": "nznCRpMX7Vht"
      },
      "source": [
        ""
      ],
      "execution_count": null,
      "outputs": []
    },
    {
      "cell_type": "code",
      "metadata": {
        "id": "K5ldoqXX7cK6"
      },
      "source": [
        ""
      ],
      "execution_count": null,
      "outputs": []
    },
    {
      "cell_type": "markdown",
      "metadata": {
        "id": "53WKlq_k7Xwm"
      },
      "source": [
        "# 머신러닝 연습\r\n"
      ]
    }
  ]
}